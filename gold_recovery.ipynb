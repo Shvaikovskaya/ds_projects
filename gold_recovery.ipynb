{
 "cells": [
  {
   "cell_type": "markdown",
   "metadata": {},
   "source": [
    "# Восстановление золота из руды"
   ]
  },
  {
   "cell_type": "markdown",
   "metadata": {},
   "source": [
    "Необходимо подготовить прототип модели машинного обучения для «Цифры». Компания разрабатывает решения для эффективной работы промышленных предприятий.\n",
    "\n",
    "Модель должна предсказать коэффициент восстановления золота из золотосодержащей руды. \n",
    "Будем использовать данные с параметрами добычи и очистки. \n",
    "\n",
    "Модель поможет оптимизировать производство, чтобы не запускать предприятие с убыточными характеристиками.\n"
   ]
  },
  {
   "cell_type": "markdown",
   "metadata": {},
   "source": [
    "План работы.\n",
    "- Загрузить и изучить данные.\n",
    "- Проверить правильность расчета эффективности.\n",
    "- Проанализировать признаки в тестовой выборке.\n",
    "- Подготовить данные.\n",
    "- Проанализировать данные.\n",
    "- Подготовить для моделей.\n",
    "- Выбрать модели с лучшим качеством. \n",
    "- Проверить модели на тестовой выборке.\n"
   ]
  },
  {
   "cell_type": "markdown",
   "metadata": {},
   "source": [
    "## Подготовка данных"
   ]
  },
  {
   "cell_type": "code",
   "execution_count": 1,
   "metadata": {},
   "outputs": [],
   "source": [
    "import matplotlib.pyplot as plt \n",
    "import numpy as np \n",
    "import pandas as pd \n",
    "from scipy import stats as st \n",
    "\n",
    "from sklearn.ensemble import RandomForestRegressor\n",
    "from sklearn.linear_model import ElasticNet,Lasso, LinearRegression \n",
    "from sklearn.metrics import make_scorer, mean_absolute_error \n",
    "from sklearn.model_selection import GridSearchCV\n",
    "from sklearn.preprocessing import StandardScaler\n",
    "from sklearn.tree import DecisionTreeRegressor "
   ]
  },
  {
   "cell_type": "markdown",
   "metadata": {},
   "source": [
    "Загрузили необходимые библиотки."
   ]
  },
  {
   "cell_type": "markdown",
   "metadata": {},
   "source": [
    "### Загрузка данных"
   ]
  },
  {
   "cell_type": "code",
   "execution_count": 2,
   "metadata": {},
   "outputs": [],
   "source": [
    "try:\n",
    "    df_full = pd.read_csv('/datasets/gold_recovery_full.csv')\n",
    "    df_test = pd.read_csv('/datasets/gold_recovery_test.csv')\n",
    "    df_train = pd.read_csv('/datasets/gold_recovery_train.csv')\n",
    "except: \n",
    "    df_full = pd.read_csv('datasets/gold_recovery_full.csv') \n",
    "    df_test = pd.read_csv('datasets/gold_recovery_test.csv')\n",
    "    df_train = pd.read_csv('datasets/gold_recovery_train.csv') "
   ]
  },
  {
   "cell_type": "markdown",
   "metadata": {},
   "source": [
    "Прочитали датасеты."
   ]
  },
  {
   "cell_type": "markdown",
   "metadata": {},
   "source": [
    "### Изучение общей информации"
   ]
  },
  {
   "cell_type": "code",
   "execution_count": 3,
   "metadata": {},
   "outputs": [
    {
     "data": {
      "text/html": [
       "<div>\n",
       "<style scoped>\n",
       "    .dataframe tbody tr th:only-of-type {\n",
       "        vertical-align: middle;\n",
       "    }\n",
       "\n",
       "    .dataframe tbody tr th {\n",
       "        vertical-align: top;\n",
       "    }\n",
       "\n",
       "    .dataframe thead th {\n",
       "        text-align: right;\n",
       "    }\n",
       "</style>\n",
       "<table border=\"1\" class=\"dataframe\">\n",
       "  <thead>\n",
       "    <tr style=\"text-align: right;\">\n",
       "      <th></th>\n",
       "      <th>date</th>\n",
       "      <th>final.output.concentrate_ag</th>\n",
       "      <th>final.output.concentrate_pb</th>\n",
       "      <th>final.output.concentrate_sol</th>\n",
       "      <th>final.output.concentrate_au</th>\n",
       "      <th>final.output.recovery</th>\n",
       "      <th>final.output.tail_ag</th>\n",
       "      <th>final.output.tail_pb</th>\n",
       "      <th>final.output.tail_sol</th>\n",
       "      <th>final.output.tail_au</th>\n",
       "      <th>...</th>\n",
       "      <th>secondary_cleaner.state.floatbank4_a_air</th>\n",
       "      <th>secondary_cleaner.state.floatbank4_a_level</th>\n",
       "      <th>secondary_cleaner.state.floatbank4_b_air</th>\n",
       "      <th>secondary_cleaner.state.floatbank4_b_level</th>\n",
       "      <th>secondary_cleaner.state.floatbank5_a_air</th>\n",
       "      <th>secondary_cleaner.state.floatbank5_a_level</th>\n",
       "      <th>secondary_cleaner.state.floatbank5_b_air</th>\n",
       "      <th>secondary_cleaner.state.floatbank5_b_level</th>\n",
       "      <th>secondary_cleaner.state.floatbank6_a_air</th>\n",
       "      <th>secondary_cleaner.state.floatbank6_a_level</th>\n",
       "    </tr>\n",
       "  </thead>\n",
       "  <tbody>\n",
       "    <tr>\n",
       "      <td>0</td>\n",
       "      <td>2016-01-15 00:00:00</td>\n",
       "      <td>6.055403</td>\n",
       "      <td>9.889648</td>\n",
       "      <td>5.507324</td>\n",
       "      <td>42.192020</td>\n",
       "      <td>70.541216</td>\n",
       "      <td>10.411962</td>\n",
       "      <td>0.895447</td>\n",
       "      <td>16.904297</td>\n",
       "      <td>2.143149</td>\n",
       "      <td>...</td>\n",
       "      <td>14.016835</td>\n",
       "      <td>-502.488007</td>\n",
       "      <td>12.099931</td>\n",
       "      <td>-504.715942</td>\n",
       "      <td>9.925633</td>\n",
       "      <td>-498.310211</td>\n",
       "      <td>8.079666</td>\n",
       "      <td>-500.470978</td>\n",
       "      <td>14.151341</td>\n",
       "      <td>-605.841980</td>\n",
       "    </tr>\n",
       "    <tr>\n",
       "      <td>1</td>\n",
       "      <td>2016-01-15 01:00:00</td>\n",
       "      <td>6.029369</td>\n",
       "      <td>9.968944</td>\n",
       "      <td>5.257781</td>\n",
       "      <td>42.701629</td>\n",
       "      <td>69.266198</td>\n",
       "      <td>10.462676</td>\n",
       "      <td>0.927452</td>\n",
       "      <td>16.634514</td>\n",
       "      <td>2.224930</td>\n",
       "      <td>...</td>\n",
       "      <td>13.992281</td>\n",
       "      <td>-505.503262</td>\n",
       "      <td>11.950531</td>\n",
       "      <td>-501.331529</td>\n",
       "      <td>10.039245</td>\n",
       "      <td>-500.169983</td>\n",
       "      <td>7.984757</td>\n",
       "      <td>-500.582168</td>\n",
       "      <td>13.998353</td>\n",
       "      <td>-599.787184</td>\n",
       "    </tr>\n",
       "    <tr>\n",
       "      <td>2</td>\n",
       "      <td>2016-01-15 02:00:00</td>\n",
       "      <td>6.055926</td>\n",
       "      <td>10.213995</td>\n",
       "      <td>5.383759</td>\n",
       "      <td>42.657501</td>\n",
       "      <td>68.116445</td>\n",
       "      <td>10.507046</td>\n",
       "      <td>0.953716</td>\n",
       "      <td>16.208849</td>\n",
       "      <td>2.257889</td>\n",
       "      <td>...</td>\n",
       "      <td>14.015015</td>\n",
       "      <td>-502.520901</td>\n",
       "      <td>11.912783</td>\n",
       "      <td>-501.133383</td>\n",
       "      <td>10.070913</td>\n",
       "      <td>-500.129135</td>\n",
       "      <td>8.013877</td>\n",
       "      <td>-500.517572</td>\n",
       "      <td>14.028663</td>\n",
       "      <td>-601.427363</td>\n",
       "    </tr>\n",
       "    <tr>\n",
       "      <td>3</td>\n",
       "      <td>2016-01-15 03:00:00</td>\n",
       "      <td>6.047977</td>\n",
       "      <td>9.977019</td>\n",
       "      <td>4.858634</td>\n",
       "      <td>42.689819</td>\n",
       "      <td>68.347543</td>\n",
       "      <td>10.422762</td>\n",
       "      <td>0.883763</td>\n",
       "      <td>16.532835</td>\n",
       "      <td>2.146849</td>\n",
       "      <td>...</td>\n",
       "      <td>14.036510</td>\n",
       "      <td>-500.857308</td>\n",
       "      <td>11.999550</td>\n",
       "      <td>-501.193686</td>\n",
       "      <td>9.970366</td>\n",
       "      <td>-499.201640</td>\n",
       "      <td>7.977324</td>\n",
       "      <td>-500.255908</td>\n",
       "      <td>14.005551</td>\n",
       "      <td>-599.996129</td>\n",
       "    </tr>\n",
       "    <tr>\n",
       "      <td>4</td>\n",
       "      <td>2016-01-15 04:00:00</td>\n",
       "      <td>6.148599</td>\n",
       "      <td>10.142511</td>\n",
       "      <td>4.939416</td>\n",
       "      <td>42.774141</td>\n",
       "      <td>66.927016</td>\n",
       "      <td>10.360302</td>\n",
       "      <td>0.792826</td>\n",
       "      <td>16.525686</td>\n",
       "      <td>2.055292</td>\n",
       "      <td>...</td>\n",
       "      <td>14.027298</td>\n",
       "      <td>-499.838632</td>\n",
       "      <td>11.953070</td>\n",
       "      <td>-501.053894</td>\n",
       "      <td>9.925709</td>\n",
       "      <td>-501.686727</td>\n",
       "      <td>7.894242</td>\n",
       "      <td>-500.356035</td>\n",
       "      <td>13.996647</td>\n",
       "      <td>-601.496691</td>\n",
       "    </tr>\n",
       "  </tbody>\n",
       "</table>\n",
       "<p>5 rows × 87 columns</p>\n",
       "</div>"
      ],
      "text/plain": [
       "                  date  final.output.concentrate_ag  \\\n",
       "0  2016-01-15 00:00:00                     6.055403   \n",
       "1  2016-01-15 01:00:00                     6.029369   \n",
       "2  2016-01-15 02:00:00                     6.055926   \n",
       "3  2016-01-15 03:00:00                     6.047977   \n",
       "4  2016-01-15 04:00:00                     6.148599   \n",
       "\n",
       "   final.output.concentrate_pb  final.output.concentrate_sol  \\\n",
       "0                     9.889648                      5.507324   \n",
       "1                     9.968944                      5.257781   \n",
       "2                    10.213995                      5.383759   \n",
       "3                     9.977019                      4.858634   \n",
       "4                    10.142511                      4.939416   \n",
       "\n",
       "   final.output.concentrate_au  final.output.recovery  final.output.tail_ag  \\\n",
       "0                    42.192020              70.541216             10.411962   \n",
       "1                    42.701629              69.266198             10.462676   \n",
       "2                    42.657501              68.116445             10.507046   \n",
       "3                    42.689819              68.347543             10.422762   \n",
       "4                    42.774141              66.927016             10.360302   \n",
       "\n",
       "   final.output.tail_pb  final.output.tail_sol  final.output.tail_au  ...  \\\n",
       "0              0.895447              16.904297              2.143149  ...   \n",
       "1              0.927452              16.634514              2.224930  ...   \n",
       "2              0.953716              16.208849              2.257889  ...   \n",
       "3              0.883763              16.532835              2.146849  ...   \n",
       "4              0.792826              16.525686              2.055292  ...   \n",
       "\n",
       "   secondary_cleaner.state.floatbank4_a_air  \\\n",
       "0                                 14.016835   \n",
       "1                                 13.992281   \n",
       "2                                 14.015015   \n",
       "3                                 14.036510   \n",
       "4                                 14.027298   \n",
       "\n",
       "   secondary_cleaner.state.floatbank4_a_level  \\\n",
       "0                                 -502.488007   \n",
       "1                                 -505.503262   \n",
       "2                                 -502.520901   \n",
       "3                                 -500.857308   \n",
       "4                                 -499.838632   \n",
       "\n",
       "   secondary_cleaner.state.floatbank4_b_air  \\\n",
       "0                                 12.099931   \n",
       "1                                 11.950531   \n",
       "2                                 11.912783   \n",
       "3                                 11.999550   \n",
       "4                                 11.953070   \n",
       "\n",
       "   secondary_cleaner.state.floatbank4_b_level  \\\n",
       "0                                 -504.715942   \n",
       "1                                 -501.331529   \n",
       "2                                 -501.133383   \n",
       "3                                 -501.193686   \n",
       "4                                 -501.053894   \n",
       "\n",
       "   secondary_cleaner.state.floatbank5_a_air  \\\n",
       "0                                  9.925633   \n",
       "1                                 10.039245   \n",
       "2                                 10.070913   \n",
       "3                                  9.970366   \n",
       "4                                  9.925709   \n",
       "\n",
       "   secondary_cleaner.state.floatbank5_a_level  \\\n",
       "0                                 -498.310211   \n",
       "1                                 -500.169983   \n",
       "2                                 -500.129135   \n",
       "3                                 -499.201640   \n",
       "4                                 -501.686727   \n",
       "\n",
       "   secondary_cleaner.state.floatbank5_b_air  \\\n",
       "0                                  8.079666   \n",
       "1                                  7.984757   \n",
       "2                                  8.013877   \n",
       "3                                  7.977324   \n",
       "4                                  7.894242   \n",
       "\n",
       "   secondary_cleaner.state.floatbank5_b_level  \\\n",
       "0                                 -500.470978   \n",
       "1                                 -500.582168   \n",
       "2                                 -500.517572   \n",
       "3                                 -500.255908   \n",
       "4                                 -500.356035   \n",
       "\n",
       "   secondary_cleaner.state.floatbank6_a_air  \\\n",
       "0                                 14.151341   \n",
       "1                                 13.998353   \n",
       "2                                 14.028663   \n",
       "3                                 14.005551   \n",
       "4                                 13.996647   \n",
       "\n",
       "   secondary_cleaner.state.floatbank6_a_level  \n",
       "0                                 -605.841980  \n",
       "1                                 -599.787184  \n",
       "2                                 -601.427363  \n",
       "3                                 -599.996129  \n",
       "4                                 -601.496691  \n",
       "\n",
       "[5 rows x 87 columns]"
      ]
     },
     "metadata": {},
     "output_type": "display_data"
    },
    {
     "data": {
      "text/html": [
       "<div>\n",
       "<style scoped>\n",
       "    .dataframe tbody tr th:only-of-type {\n",
       "        vertical-align: middle;\n",
       "    }\n",
       "\n",
       "    .dataframe tbody tr th {\n",
       "        vertical-align: top;\n",
       "    }\n",
       "\n",
       "    .dataframe thead th {\n",
       "        text-align: right;\n",
       "    }\n",
       "</style>\n",
       "<table border=\"1\" class=\"dataframe\">\n",
       "  <thead>\n",
       "    <tr style=\"text-align: right;\">\n",
       "      <th></th>\n",
       "      <th>date</th>\n",
       "      <th>primary_cleaner.input.sulfate</th>\n",
       "      <th>primary_cleaner.input.depressant</th>\n",
       "      <th>primary_cleaner.input.feed_size</th>\n",
       "      <th>primary_cleaner.input.xanthate</th>\n",
       "      <th>primary_cleaner.state.floatbank8_a_air</th>\n",
       "      <th>primary_cleaner.state.floatbank8_a_level</th>\n",
       "      <th>primary_cleaner.state.floatbank8_b_air</th>\n",
       "      <th>primary_cleaner.state.floatbank8_b_level</th>\n",
       "      <th>primary_cleaner.state.floatbank8_c_air</th>\n",
       "      <th>...</th>\n",
       "      <th>secondary_cleaner.state.floatbank4_a_air</th>\n",
       "      <th>secondary_cleaner.state.floatbank4_a_level</th>\n",
       "      <th>secondary_cleaner.state.floatbank4_b_air</th>\n",
       "      <th>secondary_cleaner.state.floatbank4_b_level</th>\n",
       "      <th>secondary_cleaner.state.floatbank5_a_air</th>\n",
       "      <th>secondary_cleaner.state.floatbank5_a_level</th>\n",
       "      <th>secondary_cleaner.state.floatbank5_b_air</th>\n",
       "      <th>secondary_cleaner.state.floatbank5_b_level</th>\n",
       "      <th>secondary_cleaner.state.floatbank6_a_air</th>\n",
       "      <th>secondary_cleaner.state.floatbank6_a_level</th>\n",
       "    </tr>\n",
       "  </thead>\n",
       "  <tbody>\n",
       "    <tr>\n",
       "      <td>0</td>\n",
       "      <td>2016-09-01 00:59:59</td>\n",
       "      <td>210.800909</td>\n",
       "      <td>14.993118</td>\n",
       "      <td>8.080000</td>\n",
       "      <td>1.005021</td>\n",
       "      <td>1398.981301</td>\n",
       "      <td>-500.225577</td>\n",
       "      <td>1399.144926</td>\n",
       "      <td>-499.919735</td>\n",
       "      <td>1400.102998</td>\n",
       "      <td>...</td>\n",
       "      <td>12.023554</td>\n",
       "      <td>-497.795834</td>\n",
       "      <td>8.016656</td>\n",
       "      <td>-501.289139</td>\n",
       "      <td>7.946562</td>\n",
       "      <td>-432.317850</td>\n",
       "      <td>4.872511</td>\n",
       "      <td>-500.037437</td>\n",
       "      <td>26.705889</td>\n",
       "      <td>-499.709414</td>\n",
       "    </tr>\n",
       "    <tr>\n",
       "      <td>1</td>\n",
       "      <td>2016-09-01 01:59:59</td>\n",
       "      <td>215.392455</td>\n",
       "      <td>14.987471</td>\n",
       "      <td>8.080000</td>\n",
       "      <td>0.990469</td>\n",
       "      <td>1398.777912</td>\n",
       "      <td>-500.057435</td>\n",
       "      <td>1398.055362</td>\n",
       "      <td>-499.778182</td>\n",
       "      <td>1396.151033</td>\n",
       "      <td>...</td>\n",
       "      <td>12.058140</td>\n",
       "      <td>-498.695773</td>\n",
       "      <td>8.130979</td>\n",
       "      <td>-499.634209</td>\n",
       "      <td>7.958270</td>\n",
       "      <td>-525.839648</td>\n",
       "      <td>4.878850</td>\n",
       "      <td>-500.162375</td>\n",
       "      <td>25.019940</td>\n",
       "      <td>-499.819438</td>\n",
       "    </tr>\n",
       "    <tr>\n",
       "      <td>2</td>\n",
       "      <td>2016-09-01 02:59:59</td>\n",
       "      <td>215.259946</td>\n",
       "      <td>12.884934</td>\n",
       "      <td>7.786667</td>\n",
       "      <td>0.996043</td>\n",
       "      <td>1398.493666</td>\n",
       "      <td>-500.868360</td>\n",
       "      <td>1398.860436</td>\n",
       "      <td>-499.764529</td>\n",
       "      <td>1398.075709</td>\n",
       "      <td>...</td>\n",
       "      <td>11.962366</td>\n",
       "      <td>-498.767484</td>\n",
       "      <td>8.096893</td>\n",
       "      <td>-500.827423</td>\n",
       "      <td>8.071056</td>\n",
       "      <td>-500.801673</td>\n",
       "      <td>4.905125</td>\n",
       "      <td>-499.828510</td>\n",
       "      <td>24.994862</td>\n",
       "      <td>-500.622559</td>\n",
       "    </tr>\n",
       "    <tr>\n",
       "      <td>3</td>\n",
       "      <td>2016-09-01 03:59:59</td>\n",
       "      <td>215.336236</td>\n",
       "      <td>12.006805</td>\n",
       "      <td>7.640000</td>\n",
       "      <td>0.863514</td>\n",
       "      <td>1399.618111</td>\n",
       "      <td>-498.863574</td>\n",
       "      <td>1397.440120</td>\n",
       "      <td>-499.211024</td>\n",
       "      <td>1400.129303</td>\n",
       "      <td>...</td>\n",
       "      <td>12.033091</td>\n",
       "      <td>-498.350935</td>\n",
       "      <td>8.074946</td>\n",
       "      <td>-499.474407</td>\n",
       "      <td>7.897085</td>\n",
       "      <td>-500.868509</td>\n",
       "      <td>4.931400</td>\n",
       "      <td>-499.963623</td>\n",
       "      <td>24.948919</td>\n",
       "      <td>-498.709987</td>\n",
       "    </tr>\n",
       "    <tr>\n",
       "      <td>4</td>\n",
       "      <td>2016-09-01 04:59:59</td>\n",
       "      <td>199.099327</td>\n",
       "      <td>10.682530</td>\n",
       "      <td>7.530000</td>\n",
       "      <td>0.805575</td>\n",
       "      <td>1401.268123</td>\n",
       "      <td>-500.808305</td>\n",
       "      <td>1398.128818</td>\n",
       "      <td>-499.504543</td>\n",
       "      <td>1402.172226</td>\n",
       "      <td>...</td>\n",
       "      <td>12.025367</td>\n",
       "      <td>-500.786497</td>\n",
       "      <td>8.054678</td>\n",
       "      <td>-500.397500</td>\n",
       "      <td>8.107890</td>\n",
       "      <td>-509.526725</td>\n",
       "      <td>4.957674</td>\n",
       "      <td>-500.360026</td>\n",
       "      <td>25.003331</td>\n",
       "      <td>-500.856333</td>\n",
       "    </tr>\n",
       "  </tbody>\n",
       "</table>\n",
       "<p>5 rows × 53 columns</p>\n",
       "</div>"
      ],
      "text/plain": [
       "                  date  primary_cleaner.input.sulfate  \\\n",
       "0  2016-09-01 00:59:59                     210.800909   \n",
       "1  2016-09-01 01:59:59                     215.392455   \n",
       "2  2016-09-01 02:59:59                     215.259946   \n",
       "3  2016-09-01 03:59:59                     215.336236   \n",
       "4  2016-09-01 04:59:59                     199.099327   \n",
       "\n",
       "   primary_cleaner.input.depressant  primary_cleaner.input.feed_size  \\\n",
       "0                         14.993118                         8.080000   \n",
       "1                         14.987471                         8.080000   \n",
       "2                         12.884934                         7.786667   \n",
       "3                         12.006805                         7.640000   \n",
       "4                         10.682530                         7.530000   \n",
       "\n",
       "   primary_cleaner.input.xanthate  primary_cleaner.state.floatbank8_a_air  \\\n",
       "0                        1.005021                             1398.981301   \n",
       "1                        0.990469                             1398.777912   \n",
       "2                        0.996043                             1398.493666   \n",
       "3                        0.863514                             1399.618111   \n",
       "4                        0.805575                             1401.268123   \n",
       "\n",
       "   primary_cleaner.state.floatbank8_a_level  \\\n",
       "0                               -500.225577   \n",
       "1                               -500.057435   \n",
       "2                               -500.868360   \n",
       "3                               -498.863574   \n",
       "4                               -500.808305   \n",
       "\n",
       "   primary_cleaner.state.floatbank8_b_air  \\\n",
       "0                             1399.144926   \n",
       "1                             1398.055362   \n",
       "2                             1398.860436   \n",
       "3                             1397.440120   \n",
       "4                             1398.128818   \n",
       "\n",
       "   primary_cleaner.state.floatbank8_b_level  \\\n",
       "0                               -499.919735   \n",
       "1                               -499.778182   \n",
       "2                               -499.764529   \n",
       "3                               -499.211024   \n",
       "4                               -499.504543   \n",
       "\n",
       "   primary_cleaner.state.floatbank8_c_air  ...  \\\n",
       "0                             1400.102998  ...   \n",
       "1                             1396.151033  ...   \n",
       "2                             1398.075709  ...   \n",
       "3                             1400.129303  ...   \n",
       "4                             1402.172226  ...   \n",
       "\n",
       "   secondary_cleaner.state.floatbank4_a_air  \\\n",
       "0                                 12.023554   \n",
       "1                                 12.058140   \n",
       "2                                 11.962366   \n",
       "3                                 12.033091   \n",
       "4                                 12.025367   \n",
       "\n",
       "   secondary_cleaner.state.floatbank4_a_level  \\\n",
       "0                                 -497.795834   \n",
       "1                                 -498.695773   \n",
       "2                                 -498.767484   \n",
       "3                                 -498.350935   \n",
       "4                                 -500.786497   \n",
       "\n",
       "   secondary_cleaner.state.floatbank4_b_air  \\\n",
       "0                                  8.016656   \n",
       "1                                  8.130979   \n",
       "2                                  8.096893   \n",
       "3                                  8.074946   \n",
       "4                                  8.054678   \n",
       "\n",
       "   secondary_cleaner.state.floatbank4_b_level  \\\n",
       "0                                 -501.289139   \n",
       "1                                 -499.634209   \n",
       "2                                 -500.827423   \n",
       "3                                 -499.474407   \n",
       "4                                 -500.397500   \n",
       "\n",
       "   secondary_cleaner.state.floatbank5_a_air  \\\n",
       "0                                  7.946562   \n",
       "1                                  7.958270   \n",
       "2                                  8.071056   \n",
       "3                                  7.897085   \n",
       "4                                  8.107890   \n",
       "\n",
       "   secondary_cleaner.state.floatbank5_a_level  \\\n",
       "0                                 -432.317850   \n",
       "1                                 -525.839648   \n",
       "2                                 -500.801673   \n",
       "3                                 -500.868509   \n",
       "4                                 -509.526725   \n",
       "\n",
       "   secondary_cleaner.state.floatbank5_b_air  \\\n",
       "0                                  4.872511   \n",
       "1                                  4.878850   \n",
       "2                                  4.905125   \n",
       "3                                  4.931400   \n",
       "4                                  4.957674   \n",
       "\n",
       "   secondary_cleaner.state.floatbank5_b_level  \\\n",
       "0                                 -500.037437   \n",
       "1                                 -500.162375   \n",
       "2                                 -499.828510   \n",
       "3                                 -499.963623   \n",
       "4                                 -500.360026   \n",
       "\n",
       "   secondary_cleaner.state.floatbank6_a_air  \\\n",
       "0                                 26.705889   \n",
       "1                                 25.019940   \n",
       "2                                 24.994862   \n",
       "3                                 24.948919   \n",
       "4                                 25.003331   \n",
       "\n",
       "   secondary_cleaner.state.floatbank6_a_level  \n",
       "0                                 -499.709414  \n",
       "1                                 -499.819438  \n",
       "2                                 -500.622559  \n",
       "3                                 -498.709987  \n",
       "4                                 -500.856333  \n",
       "\n",
       "[5 rows x 53 columns]"
      ]
     },
     "metadata": {},
     "output_type": "display_data"
    },
    {
     "data": {
      "text/html": [
       "<div>\n",
       "<style scoped>\n",
       "    .dataframe tbody tr th:only-of-type {\n",
       "        vertical-align: middle;\n",
       "    }\n",
       "\n",
       "    .dataframe tbody tr th {\n",
       "        vertical-align: top;\n",
       "    }\n",
       "\n",
       "    .dataframe thead th {\n",
       "        text-align: right;\n",
       "    }\n",
       "</style>\n",
       "<table border=\"1\" class=\"dataframe\">\n",
       "  <thead>\n",
       "    <tr style=\"text-align: right;\">\n",
       "      <th></th>\n",
       "      <th>date</th>\n",
       "      <th>final.output.concentrate_ag</th>\n",
       "      <th>final.output.concentrate_pb</th>\n",
       "      <th>final.output.concentrate_sol</th>\n",
       "      <th>final.output.concentrate_au</th>\n",
       "      <th>final.output.recovery</th>\n",
       "      <th>final.output.tail_ag</th>\n",
       "      <th>final.output.tail_pb</th>\n",
       "      <th>final.output.tail_sol</th>\n",
       "      <th>final.output.tail_au</th>\n",
       "      <th>...</th>\n",
       "      <th>secondary_cleaner.state.floatbank4_a_air</th>\n",
       "      <th>secondary_cleaner.state.floatbank4_a_level</th>\n",
       "      <th>secondary_cleaner.state.floatbank4_b_air</th>\n",
       "      <th>secondary_cleaner.state.floatbank4_b_level</th>\n",
       "      <th>secondary_cleaner.state.floatbank5_a_air</th>\n",
       "      <th>secondary_cleaner.state.floatbank5_a_level</th>\n",
       "      <th>secondary_cleaner.state.floatbank5_b_air</th>\n",
       "      <th>secondary_cleaner.state.floatbank5_b_level</th>\n",
       "      <th>secondary_cleaner.state.floatbank6_a_air</th>\n",
       "      <th>secondary_cleaner.state.floatbank6_a_level</th>\n",
       "    </tr>\n",
       "  </thead>\n",
       "  <tbody>\n",
       "    <tr>\n",
       "      <td>0</td>\n",
       "      <td>2016-01-15 00:00:00</td>\n",
       "      <td>6.055403</td>\n",
       "      <td>9.889648</td>\n",
       "      <td>5.507324</td>\n",
       "      <td>42.192020</td>\n",
       "      <td>70.541216</td>\n",
       "      <td>10.411962</td>\n",
       "      <td>0.895447</td>\n",
       "      <td>16.904297</td>\n",
       "      <td>2.143149</td>\n",
       "      <td>...</td>\n",
       "      <td>14.016835</td>\n",
       "      <td>-502.488007</td>\n",
       "      <td>12.099931</td>\n",
       "      <td>-504.715942</td>\n",
       "      <td>9.925633</td>\n",
       "      <td>-498.310211</td>\n",
       "      <td>8.079666</td>\n",
       "      <td>-500.470978</td>\n",
       "      <td>14.151341</td>\n",
       "      <td>-605.841980</td>\n",
       "    </tr>\n",
       "    <tr>\n",
       "      <td>1</td>\n",
       "      <td>2016-01-15 01:00:00</td>\n",
       "      <td>6.029369</td>\n",
       "      <td>9.968944</td>\n",
       "      <td>5.257781</td>\n",
       "      <td>42.701629</td>\n",
       "      <td>69.266198</td>\n",
       "      <td>10.462676</td>\n",
       "      <td>0.927452</td>\n",
       "      <td>16.634514</td>\n",
       "      <td>2.224930</td>\n",
       "      <td>...</td>\n",
       "      <td>13.992281</td>\n",
       "      <td>-505.503262</td>\n",
       "      <td>11.950531</td>\n",
       "      <td>-501.331529</td>\n",
       "      <td>10.039245</td>\n",
       "      <td>-500.169983</td>\n",
       "      <td>7.984757</td>\n",
       "      <td>-500.582168</td>\n",
       "      <td>13.998353</td>\n",
       "      <td>-599.787184</td>\n",
       "    </tr>\n",
       "    <tr>\n",
       "      <td>2</td>\n",
       "      <td>2016-01-15 02:00:00</td>\n",
       "      <td>6.055926</td>\n",
       "      <td>10.213995</td>\n",
       "      <td>5.383759</td>\n",
       "      <td>42.657501</td>\n",
       "      <td>68.116445</td>\n",
       "      <td>10.507046</td>\n",
       "      <td>0.953716</td>\n",
       "      <td>16.208849</td>\n",
       "      <td>2.257889</td>\n",
       "      <td>...</td>\n",
       "      <td>14.015015</td>\n",
       "      <td>-502.520901</td>\n",
       "      <td>11.912783</td>\n",
       "      <td>-501.133383</td>\n",
       "      <td>10.070913</td>\n",
       "      <td>-500.129135</td>\n",
       "      <td>8.013877</td>\n",
       "      <td>-500.517572</td>\n",
       "      <td>14.028663</td>\n",
       "      <td>-601.427363</td>\n",
       "    </tr>\n",
       "    <tr>\n",
       "      <td>3</td>\n",
       "      <td>2016-01-15 03:00:00</td>\n",
       "      <td>6.047977</td>\n",
       "      <td>9.977019</td>\n",
       "      <td>4.858634</td>\n",
       "      <td>42.689819</td>\n",
       "      <td>68.347543</td>\n",
       "      <td>10.422762</td>\n",
       "      <td>0.883763</td>\n",
       "      <td>16.532835</td>\n",
       "      <td>2.146849</td>\n",
       "      <td>...</td>\n",
       "      <td>14.036510</td>\n",
       "      <td>-500.857308</td>\n",
       "      <td>11.999550</td>\n",
       "      <td>-501.193686</td>\n",
       "      <td>9.970366</td>\n",
       "      <td>-499.201640</td>\n",
       "      <td>7.977324</td>\n",
       "      <td>-500.255908</td>\n",
       "      <td>14.005551</td>\n",
       "      <td>-599.996129</td>\n",
       "    </tr>\n",
       "    <tr>\n",
       "      <td>4</td>\n",
       "      <td>2016-01-15 04:00:00</td>\n",
       "      <td>6.148599</td>\n",
       "      <td>10.142511</td>\n",
       "      <td>4.939416</td>\n",
       "      <td>42.774141</td>\n",
       "      <td>66.927016</td>\n",
       "      <td>10.360302</td>\n",
       "      <td>0.792826</td>\n",
       "      <td>16.525686</td>\n",
       "      <td>2.055292</td>\n",
       "      <td>...</td>\n",
       "      <td>14.027298</td>\n",
       "      <td>-499.838632</td>\n",
       "      <td>11.953070</td>\n",
       "      <td>-501.053894</td>\n",
       "      <td>9.925709</td>\n",
       "      <td>-501.686727</td>\n",
       "      <td>7.894242</td>\n",
       "      <td>-500.356035</td>\n",
       "      <td>13.996647</td>\n",
       "      <td>-601.496691</td>\n",
       "    </tr>\n",
       "  </tbody>\n",
       "</table>\n",
       "<p>5 rows × 87 columns</p>\n",
       "</div>"
      ],
      "text/plain": [
       "                  date  final.output.concentrate_ag  \\\n",
       "0  2016-01-15 00:00:00                     6.055403   \n",
       "1  2016-01-15 01:00:00                     6.029369   \n",
       "2  2016-01-15 02:00:00                     6.055926   \n",
       "3  2016-01-15 03:00:00                     6.047977   \n",
       "4  2016-01-15 04:00:00                     6.148599   \n",
       "\n",
       "   final.output.concentrate_pb  final.output.concentrate_sol  \\\n",
       "0                     9.889648                      5.507324   \n",
       "1                     9.968944                      5.257781   \n",
       "2                    10.213995                      5.383759   \n",
       "3                     9.977019                      4.858634   \n",
       "4                    10.142511                      4.939416   \n",
       "\n",
       "   final.output.concentrate_au  final.output.recovery  final.output.tail_ag  \\\n",
       "0                    42.192020              70.541216             10.411962   \n",
       "1                    42.701629              69.266198             10.462676   \n",
       "2                    42.657501              68.116445             10.507046   \n",
       "3                    42.689819              68.347543             10.422762   \n",
       "4                    42.774141              66.927016             10.360302   \n",
       "\n",
       "   final.output.tail_pb  final.output.tail_sol  final.output.tail_au  ...  \\\n",
       "0              0.895447              16.904297              2.143149  ...   \n",
       "1              0.927452              16.634514              2.224930  ...   \n",
       "2              0.953716              16.208849              2.257889  ...   \n",
       "3              0.883763              16.532835              2.146849  ...   \n",
       "4              0.792826              16.525686              2.055292  ...   \n",
       "\n",
       "   secondary_cleaner.state.floatbank4_a_air  \\\n",
       "0                                 14.016835   \n",
       "1                                 13.992281   \n",
       "2                                 14.015015   \n",
       "3                                 14.036510   \n",
       "4                                 14.027298   \n",
       "\n",
       "   secondary_cleaner.state.floatbank4_a_level  \\\n",
       "0                                 -502.488007   \n",
       "1                                 -505.503262   \n",
       "2                                 -502.520901   \n",
       "3                                 -500.857308   \n",
       "4                                 -499.838632   \n",
       "\n",
       "   secondary_cleaner.state.floatbank4_b_air  \\\n",
       "0                                 12.099931   \n",
       "1                                 11.950531   \n",
       "2                                 11.912783   \n",
       "3                                 11.999550   \n",
       "4                                 11.953070   \n",
       "\n",
       "   secondary_cleaner.state.floatbank4_b_level  \\\n",
       "0                                 -504.715942   \n",
       "1                                 -501.331529   \n",
       "2                                 -501.133383   \n",
       "3                                 -501.193686   \n",
       "4                                 -501.053894   \n",
       "\n",
       "   secondary_cleaner.state.floatbank5_a_air  \\\n",
       "0                                  9.925633   \n",
       "1                                 10.039245   \n",
       "2                                 10.070913   \n",
       "3                                  9.970366   \n",
       "4                                  9.925709   \n",
       "\n",
       "   secondary_cleaner.state.floatbank5_a_level  \\\n",
       "0                                 -498.310211   \n",
       "1                                 -500.169983   \n",
       "2                                 -500.129135   \n",
       "3                                 -499.201640   \n",
       "4                                 -501.686727   \n",
       "\n",
       "   secondary_cleaner.state.floatbank5_b_air  \\\n",
       "0                                  8.079666   \n",
       "1                                  7.984757   \n",
       "2                                  8.013877   \n",
       "3                                  7.977324   \n",
       "4                                  7.894242   \n",
       "\n",
       "   secondary_cleaner.state.floatbank5_b_level  \\\n",
       "0                                 -500.470978   \n",
       "1                                 -500.582168   \n",
       "2                                 -500.517572   \n",
       "3                                 -500.255908   \n",
       "4                                 -500.356035   \n",
       "\n",
       "   secondary_cleaner.state.floatbank6_a_air  \\\n",
       "0                                 14.151341   \n",
       "1                                 13.998353   \n",
       "2                                 14.028663   \n",
       "3                                 14.005551   \n",
       "4                                 13.996647   \n",
       "\n",
       "   secondary_cleaner.state.floatbank6_a_level  \n",
       "0                                 -605.841980  \n",
       "1                                 -599.787184  \n",
       "2                                 -601.427363  \n",
       "3                                 -599.996129  \n",
       "4                                 -601.496691  \n",
       "\n",
       "[5 rows x 87 columns]"
      ]
     },
     "metadata": {},
     "output_type": "display_data"
    }
   ],
   "source": [
    "display(df_full.head())\n",
    "display(df_test.head())\n",
    "display(df_train.head())"
   ]
  },
  {
   "cell_type": "markdown",
   "metadata": {},
   "source": [
    "Посморели общую информацию в датасетах. "
   ]
  },
  {
   "cell_type": "markdown",
   "metadata": {},
   "source": [
    "### Проверка правильности расчета эффективности обогащения."
   ]
  },
  {
   "cell_type": "code",
   "execution_count": 4,
   "metadata": {},
   "outputs": [],
   "source": [
    "stages = {'rougher':'Флотация', \n",
    "          'primary_cleaner':'Первичная очистка', \n",
    "          'secondary_cleaner':'Вторичная очистка', \n",
    "          'final':'Финальная',}\n",
    "products = ['ag', 'pb', 'sol', 'au']\n"
   ]
  },
  {
   "cell_type": "code",
   "execution_count": 5,
   "metadata": {},
   "outputs": [],
   "source": [
    "def calculate_rougher_recovery(data):\n",
    "    return ((data['rougher.output.concentrate_au'] * \n",
    "            (data['rougher.input.feed_au'] -\n",
    "            data['rougher.output.tail_au']))/\n",
    "            (data['rougher.input.feed_au'] * \n",
    "            (data['rougher.output.concentrate_au'] -\n",
    "            data['rougher.output.tail_au'])) * 100)"
   ]
  },
  {
   "cell_type": "code",
   "execution_count": 6,
   "metadata": {},
   "outputs": [],
   "source": [
    "rougher_calculation_recovery = calculate_rougher_recovery(df_train.dropna()) "
   ]
  },
  {
   "cell_type": "code",
   "execution_count": 7,
   "metadata": {},
   "outputs": [
    {
     "name": "stdout",
     "output_type": "stream",
     "text": [
      "Средняя абсолютная ошибка = 0.000000000000010\n"
     ]
    }
   ],
   "source": [
    "mae = mean_absolute_error(df_train.dropna()['rougher.output.recovery'], rougher_calculation_recovery)\n",
    "print(f'Средняя абсолютная ошибка = {mae:.15f}')"
   ]
  },
  {
   "cell_type": "markdown",
   "metadata": {},
   "source": [
    "**Вычислили эффективность обогащения на обучающей выборке для признака rougher.output.recovery. НАшли MAE между расчётами и значением признака. Средняя абсолютная ошибка получилась незначительной, можем считать, что эффективность обогащения в данных рассчитана верно.**"
   ]
  },
  {
   "cell_type": "markdown",
   "metadata": {},
   "source": [
    "### Анализ признаков в тестовой выборке. "
   ]
  },
  {
   "cell_type": "markdown",
   "metadata": {},
   "source": [
    "Посмотрим, каких данных нет в тестовой выборке."
   ]
  },
  {
   "cell_type": "code",
   "execution_count": 8,
   "metadata": {
    "scrolled": false
   },
   "outputs": [
    {
     "data": {
      "text/plain": [
       "{'final.output.concentrate_ag',\n",
       " 'final.output.concentrate_au',\n",
       " 'final.output.concentrate_pb',\n",
       " 'final.output.concentrate_sol',\n",
       " 'final.output.recovery',\n",
       " 'final.output.tail_ag',\n",
       " 'final.output.tail_au',\n",
       " 'final.output.tail_pb',\n",
       " 'final.output.tail_sol',\n",
       " 'primary_cleaner.output.concentrate_ag',\n",
       " 'primary_cleaner.output.concentrate_au',\n",
       " 'primary_cleaner.output.concentrate_pb',\n",
       " 'primary_cleaner.output.concentrate_sol',\n",
       " 'primary_cleaner.output.tail_ag',\n",
       " 'primary_cleaner.output.tail_au',\n",
       " 'primary_cleaner.output.tail_pb',\n",
       " 'primary_cleaner.output.tail_sol',\n",
       " 'rougher.calculation.au_pb_ratio',\n",
       " 'rougher.calculation.floatbank10_sulfate_to_au_feed',\n",
       " 'rougher.calculation.floatbank11_sulfate_to_au_feed',\n",
       " 'rougher.calculation.sulfate_to_au_concentrate',\n",
       " 'rougher.output.concentrate_ag',\n",
       " 'rougher.output.concentrate_au',\n",
       " 'rougher.output.concentrate_pb',\n",
       " 'rougher.output.concentrate_sol',\n",
       " 'rougher.output.recovery',\n",
       " 'rougher.output.tail_ag',\n",
       " 'rougher.output.tail_au',\n",
       " 'rougher.output.tail_pb',\n",
       " 'rougher.output.tail_sol',\n",
       " 'secondary_cleaner.output.tail_ag',\n",
       " 'secondary_cleaner.output.tail_au',\n",
       " 'secondary_cleaner.output.tail_pb',\n",
       " 'secondary_cleaner.output.tail_sol'}"
      ]
     },
     "execution_count": 8,
     "metadata": {},
     "output_type": "execute_result"
    }
   ],
   "source": [
    "columns_train = set(df_train.columns)\n",
    "columns_test = set(df_test.columns)\n",
    "(columns_train-columns_test) "
   ]
  },
  {
   "cell_type": "markdown",
   "metadata": {},
   "source": [
    "**В тестовой выборе отсутствуют выходные данные по каждой стадии обработки руды и расчетные величины, они не имеют значения для предсказания, так как заполняются после начала обработки, поэтому мы можем удалить их из обучающей выборки. Кроме того, в тестовой выборке отсутствует целевой признак. Для проверки модели заполним его из полных данных.** "
   ]
  },
  {
   "cell_type": "code",
   "execution_count": 9,
   "metadata": {},
   "outputs": [],
   "source": [
    "df_full.index = list(df_full['date'])\n",
    "df_test.index = list(df_test['date'])\n",
    "df_train.index = list(df_train['date'])"
   ]
  },
  {
   "cell_type": "code",
   "execution_count": 10,
   "metadata": {},
   "outputs": [],
   "source": [
    "df_test['rougher.output.recovery'] = df_full.loc[df_test.index][ 'rougher.output.recovery'] \n",
    "df_test['final.output.recovery'] = df_full.loc[df_test.index][ 'final.output.recovery'] "
   ]
  },
  {
   "cell_type": "markdown",
   "metadata": {},
   "source": [
    "**Заполнили целевой признак в тестовой выборке**"
   ]
  },
  {
   "cell_type": "markdown",
   "metadata": {},
   "source": [
    "### Предобработка данных"
   ]
  },
  {
   "cell_type": "markdown",
   "metadata": {},
   "source": [
    "Изучим пропуски. "
   ]
  },
  {
   "cell_type": "code",
   "execution_count": 11,
   "metadata": {
    "scrolled": false
   },
   "outputs": [
    {
     "name": "stdout",
     "output_type": "stream",
     "text": [
      "date                                          0.000000\n",
      "primary_cleaner.input.sulfate                 0.051571\n",
      "primary_cleaner.input.depressant              0.048497\n",
      "primary_cleaner.input.feed_size               0.000000\n",
      "primary_cleaner.input.xanthate                0.028347\n",
      "primary_cleaner.state.floatbank8_a_air        0.002732\n",
      "primary_cleaner.state.floatbank8_a_level      0.002732\n",
      "primary_cleaner.state.floatbank8_b_air        0.002732\n",
      "primary_cleaner.state.floatbank8_b_level      0.002732\n",
      "primary_cleaner.state.floatbank8_c_air        0.002732\n",
      "primary_cleaner.state.floatbank8_c_level      0.002732\n",
      "primary_cleaner.state.floatbank8_d_air        0.002732\n",
      "primary_cleaner.state.floatbank8_d_level      0.002732\n",
      "rougher.input.feed_ag                         0.002732\n",
      "rougher.input.feed_pb                         0.002732\n",
      "rougher.input.feed_rate                       0.006831\n",
      "rougher.input.feed_size                       0.003757\n",
      "rougher.input.feed_sol                        0.011441\n",
      "rougher.input.feed_au                         0.002732\n",
      "rougher.input.floatbank10_sulfate             0.043887\n",
      "rougher.input.floatbank10_xanthate            0.021004\n",
      "rougher.input.floatbank11_sulfate             0.009392\n",
      "rougher.input.floatbank11_xanthate            0.060280\n",
      "rougher.state.floatbank10_a_air               0.002903\n",
      "rougher.state.floatbank10_a_level             0.002732\n",
      "rougher.state.floatbank10_b_air               0.002903\n",
      "rougher.state.floatbank10_b_level             0.002732\n",
      "rougher.state.floatbank10_c_air               0.002903\n",
      "rougher.state.floatbank10_c_level             0.002732\n",
      "rougher.state.floatbank10_d_air               0.002903\n",
      "rougher.state.floatbank10_d_level             0.002732\n",
      "rougher.state.floatbank10_e_air               0.002903\n",
      "rougher.state.floatbank10_e_level             0.002732\n",
      "rougher.state.floatbank10_f_air               0.002903\n",
      "rougher.state.floatbank10_f_level             0.002732\n",
      "secondary_cleaner.state.floatbank2_a_air      0.003415\n",
      "secondary_cleaner.state.floatbank2_a_level    0.002732\n",
      "secondary_cleaner.state.floatbank2_b_air      0.003928\n",
      "secondary_cleaner.state.floatbank2_b_level    0.002732\n",
      "secondary_cleaner.state.floatbank3_a_air      0.005806\n",
      "secondary_cleaner.state.floatbank3_a_level    0.002732\n",
      "secondary_cleaner.state.floatbank3_b_air      0.002732\n",
      "secondary_cleaner.state.floatbank3_b_level    0.002732\n",
      "secondary_cleaner.state.floatbank4_a_air      0.002732\n",
      "secondary_cleaner.state.floatbank4_a_level    0.002732\n",
      "secondary_cleaner.state.floatbank4_b_air      0.002732\n",
      "secondary_cleaner.state.floatbank4_b_level    0.002732\n",
      "secondary_cleaner.state.floatbank5_a_air      0.002732\n",
      "secondary_cleaner.state.floatbank5_a_level    0.002732\n",
      "secondary_cleaner.state.floatbank5_b_air      0.002732\n",
      "secondary_cleaner.state.floatbank5_b_level    0.002732\n",
      "secondary_cleaner.state.floatbank6_a_air      0.002732\n",
      "secondary_cleaner.state.floatbank6_a_level    0.002732\n",
      "rougher.output.recovery                       0.093238\n",
      "final.output.recovery                         0.075478\n",
      "dtype: float64\n",
      "date                                          0.000000\n",
      "final.output.concentrate_ag                   0.004270\n",
      "final.output.concentrate_pb                   0.004270\n",
      "final.output.concentrate_sol                  0.021945\n",
      "final.output.concentrate_au                   0.004211\n",
      "                                                ...   \n",
      "secondary_cleaner.state.floatbank5_a_level    0.005042\n",
      "secondary_cleaner.state.floatbank5_b_air      0.005042\n",
      "secondary_cleaner.state.floatbank5_b_level    0.004982\n",
      "secondary_cleaner.state.floatbank6_a_air      0.006109\n",
      "secondary_cleaner.state.floatbank6_a_level    0.005042\n",
      "Length: 87, dtype: float64\n"
     ]
    }
   ],
   "source": [
    "print(df_test.isna().mean())\n",
    "print(df_train.isna().mean())"
   ]
  },
  {
   "cell_type": "markdown",
   "metadata": {},
   "source": [
    "Нам известно, что соседние по времени параметры могит быть похожи, поэтому сначала заполним пропуски соседними значениями."
   ]
  },
  {
   "cell_type": "code",
   "execution_count": 12,
   "metadata": {},
   "outputs": [],
   "source": [
    "df_train = df_train.loc[~df_train['final.output.recovery'].isna() & ~df_train['rougher.output.recovery'].isna()]"
   ]
  },
  {
   "cell_type": "code",
   "execution_count": 13,
   "metadata": {},
   "outputs": [],
   "source": [
    "df_test = df_test.loc[~df_test['final.output.recovery'].isna() & ~df_test['rougher.output.recovery'].isna()]"
   ]
  },
  {
   "cell_type": "code",
   "execution_count": 14,
   "metadata": {},
   "outputs": [],
   "source": [
    "df_train = df_train.fillna(method='ffill')\n",
    "df_test = df_test.fillna(method='ffill')"
   ]
  },
  {
   "cell_type": "code",
   "execution_count": 15,
   "metadata": {},
   "outputs": [
    {
     "name": "stdout",
     "output_type": "stream",
     "text": [
      "<class 'pandas.core.frame.DataFrame'>\n",
      "Index: 14149 entries, 2016-01-15 00:00:00 to 2018-08-18 10:59:59\n",
      "Data columns (total 55 columns):\n",
      "date                                          14149 non-null object\n",
      "final.output.recovery                         14149 non-null float64\n",
      "primary_cleaner.input.sulfate                 14149 non-null float64\n",
      "primary_cleaner.input.depressant              14149 non-null float64\n",
      "primary_cleaner.input.feed_size               14149 non-null float64\n",
      "primary_cleaner.input.xanthate                14149 non-null float64\n",
      "primary_cleaner.state.floatbank8_a_air        14149 non-null float64\n",
      "primary_cleaner.state.floatbank8_a_level      14149 non-null float64\n",
      "primary_cleaner.state.floatbank8_b_air        14149 non-null float64\n",
      "primary_cleaner.state.floatbank8_b_level      14149 non-null float64\n",
      "primary_cleaner.state.floatbank8_c_air        14149 non-null float64\n",
      "primary_cleaner.state.floatbank8_c_level      14149 non-null float64\n",
      "primary_cleaner.state.floatbank8_d_air        14149 non-null float64\n",
      "primary_cleaner.state.floatbank8_d_level      14149 non-null float64\n",
      "rougher.input.feed_ag                         14149 non-null float64\n",
      "rougher.input.feed_pb                         14149 non-null float64\n",
      "rougher.input.feed_rate                       14149 non-null float64\n",
      "rougher.input.feed_size                       14149 non-null float64\n",
      "rougher.input.feed_sol                        14149 non-null float64\n",
      "rougher.input.feed_au                         14149 non-null float64\n",
      "rougher.input.floatbank10_sulfate             14149 non-null float64\n",
      "rougher.input.floatbank10_xanthate            14149 non-null float64\n",
      "rougher.input.floatbank11_sulfate             14149 non-null float64\n",
      "rougher.input.floatbank11_xanthate            14149 non-null float64\n",
      "rougher.output.recovery                       14149 non-null float64\n",
      "rougher.state.floatbank10_a_air               14149 non-null float64\n",
      "rougher.state.floatbank10_a_level             14149 non-null float64\n",
      "rougher.state.floatbank10_b_air               14149 non-null float64\n",
      "rougher.state.floatbank10_b_level             14149 non-null float64\n",
      "rougher.state.floatbank10_c_air               14149 non-null float64\n",
      "rougher.state.floatbank10_c_level             14149 non-null float64\n",
      "rougher.state.floatbank10_d_air               14149 non-null float64\n",
      "rougher.state.floatbank10_d_level             14149 non-null float64\n",
      "rougher.state.floatbank10_e_air               14149 non-null float64\n",
      "rougher.state.floatbank10_e_level             14149 non-null float64\n",
      "rougher.state.floatbank10_f_air               14149 non-null float64\n",
      "rougher.state.floatbank10_f_level             14149 non-null float64\n",
      "secondary_cleaner.state.floatbank2_a_air      14149 non-null float64\n",
      "secondary_cleaner.state.floatbank2_a_level    14149 non-null float64\n",
      "secondary_cleaner.state.floatbank2_b_air      14149 non-null float64\n",
      "secondary_cleaner.state.floatbank2_b_level    14149 non-null float64\n",
      "secondary_cleaner.state.floatbank3_a_air      14149 non-null float64\n",
      "secondary_cleaner.state.floatbank3_a_level    14149 non-null float64\n",
      "secondary_cleaner.state.floatbank3_b_air      14149 non-null float64\n",
      "secondary_cleaner.state.floatbank3_b_level    14149 non-null float64\n",
      "secondary_cleaner.state.floatbank4_a_air      14149 non-null float64\n",
      "secondary_cleaner.state.floatbank4_a_level    14149 non-null float64\n",
      "secondary_cleaner.state.floatbank4_b_air      14149 non-null float64\n",
      "secondary_cleaner.state.floatbank4_b_level    14149 non-null float64\n",
      "secondary_cleaner.state.floatbank5_a_air      14149 non-null float64\n",
      "secondary_cleaner.state.floatbank5_a_level    14149 non-null float64\n",
      "secondary_cleaner.state.floatbank5_b_air      14149 non-null float64\n",
      "secondary_cleaner.state.floatbank5_b_level    14149 non-null float64\n",
      "secondary_cleaner.state.floatbank6_a_air      14149 non-null float64\n",
      "secondary_cleaner.state.floatbank6_a_level    14149 non-null float64\n",
      "dtypes: float64(54), object(1)\n",
      "memory usage: 6.0+ MB\n"
     ]
    }
   ],
   "source": [
    "df_train = df_train.drop(list((columns_train-columns_test) - {'final.output.recovery', 'rougher.output.recovery'}), axis = 1) \n",
    "df_train.info()"
   ]
  },
  {
   "cell_type": "code",
   "execution_count": 16,
   "metadata": {},
   "outputs": [
    {
     "name": "stdout",
     "output_type": "stream",
     "text": [
      "<class 'pandas.core.frame.DataFrame'>\n",
      "Index: 5290 entries, 2016-09-01 00:59:59 to 2017-12-31 23:59:59\n",
      "Data columns (total 55 columns):\n",
      "date                                          5290 non-null object\n",
      "primary_cleaner.input.sulfate                 5290 non-null float64\n",
      "primary_cleaner.input.depressant              5290 non-null float64\n",
      "primary_cleaner.input.feed_size               5290 non-null float64\n",
      "primary_cleaner.input.xanthate                5290 non-null float64\n",
      "primary_cleaner.state.floatbank8_a_air        5290 non-null float64\n",
      "primary_cleaner.state.floatbank8_a_level      5290 non-null float64\n",
      "primary_cleaner.state.floatbank8_b_air        5290 non-null float64\n",
      "primary_cleaner.state.floatbank8_b_level      5290 non-null float64\n",
      "primary_cleaner.state.floatbank8_c_air        5290 non-null float64\n",
      "primary_cleaner.state.floatbank8_c_level      5290 non-null float64\n",
      "primary_cleaner.state.floatbank8_d_air        5290 non-null float64\n",
      "primary_cleaner.state.floatbank8_d_level      5290 non-null float64\n",
      "rougher.input.feed_ag                         5290 non-null float64\n",
      "rougher.input.feed_pb                         5290 non-null float64\n",
      "rougher.input.feed_rate                       5290 non-null float64\n",
      "rougher.input.feed_size                       5290 non-null float64\n",
      "rougher.input.feed_sol                        5290 non-null float64\n",
      "rougher.input.feed_au                         5290 non-null float64\n",
      "rougher.input.floatbank10_sulfate             5290 non-null float64\n",
      "rougher.input.floatbank10_xanthate            5290 non-null float64\n",
      "rougher.input.floatbank11_sulfate             5290 non-null float64\n",
      "rougher.input.floatbank11_xanthate            5290 non-null float64\n",
      "rougher.state.floatbank10_a_air               5290 non-null float64\n",
      "rougher.state.floatbank10_a_level             5290 non-null float64\n",
      "rougher.state.floatbank10_b_air               5290 non-null float64\n",
      "rougher.state.floatbank10_b_level             5290 non-null float64\n",
      "rougher.state.floatbank10_c_air               5290 non-null float64\n",
      "rougher.state.floatbank10_c_level             5290 non-null float64\n",
      "rougher.state.floatbank10_d_air               5290 non-null float64\n",
      "rougher.state.floatbank10_d_level             5290 non-null float64\n",
      "rougher.state.floatbank10_e_air               5290 non-null float64\n",
      "rougher.state.floatbank10_e_level             5290 non-null float64\n",
      "rougher.state.floatbank10_f_air               5290 non-null float64\n",
      "rougher.state.floatbank10_f_level             5290 non-null float64\n",
      "secondary_cleaner.state.floatbank2_a_air      5290 non-null float64\n",
      "secondary_cleaner.state.floatbank2_a_level    5290 non-null float64\n",
      "secondary_cleaner.state.floatbank2_b_air      5290 non-null float64\n",
      "secondary_cleaner.state.floatbank2_b_level    5290 non-null float64\n",
      "secondary_cleaner.state.floatbank3_a_air      5290 non-null float64\n",
      "secondary_cleaner.state.floatbank3_a_level    5290 non-null float64\n",
      "secondary_cleaner.state.floatbank3_b_air      5290 non-null float64\n",
      "secondary_cleaner.state.floatbank3_b_level    5290 non-null float64\n",
      "secondary_cleaner.state.floatbank4_a_air      5290 non-null float64\n",
      "secondary_cleaner.state.floatbank4_a_level    5290 non-null float64\n",
      "secondary_cleaner.state.floatbank4_b_air      5290 non-null float64\n",
      "secondary_cleaner.state.floatbank4_b_level    5290 non-null float64\n",
      "secondary_cleaner.state.floatbank5_a_air      5290 non-null float64\n",
      "secondary_cleaner.state.floatbank5_a_level    5290 non-null float64\n",
      "secondary_cleaner.state.floatbank5_b_air      5290 non-null float64\n",
      "secondary_cleaner.state.floatbank5_b_level    5290 non-null float64\n",
      "secondary_cleaner.state.floatbank6_a_air      5290 non-null float64\n",
      "secondary_cleaner.state.floatbank6_a_level    5290 non-null float64\n",
      "rougher.output.recovery                       5290 non-null float64\n",
      "final.output.recovery                         5290 non-null float64\n",
      "dtypes: float64(54), object(1)\n",
      "memory usage: 2.3+ MB\n"
     ]
    }
   ],
   "source": [
    "df_test.info()\n"
   ]
  },
  {
   "cell_type": "code",
   "execution_count": 17,
   "metadata": {},
   "outputs": [],
   "source": [
    "df_train = df_train.drop(['date'], axis = 1)\n",
    "df_test = df_test.drop(['date'], axis = 1)"
   ]
  },
  {
   "cell_type": "markdown",
   "metadata": {},
   "source": [
    "Удалили колонку date, для модели она не имеет смысла. "
   ]
  },
  {
   "cell_type": "markdown",
   "metadata": {},
   "source": [
    "Убедимся, что после всех манипуляций структуры датасетов одинаковы."
   ]
  },
  {
   "cell_type": "code",
   "execution_count": 18,
   "metadata": {},
   "outputs": [
    {
     "data": {
      "text/plain": [
       "True"
      ]
     },
     "execution_count": 18,
     "metadata": {},
     "output_type": "execute_result"
    }
   ],
   "source": [
    "set(df_test.columns) == set(df_train.columns )"
   ]
  },
  {
   "cell_type": "markdown",
   "metadata": {},
   "source": [
    "**Мы избавились от признаков, которых нет в тестовой выборке, заполнили пустые значения, те, который не смогли заполнить, удалили. В результате получили обучающую и тестовую выборки одной труктуры.** "
   ]
  },
  {
   "cell_type": "markdown",
   "metadata": {},
   "source": [
    "## Анализ данных"
   ]
  },
  {
   "cell_type": "markdown",
   "metadata": {},
   "source": [
    "### Анализ концентрации металлов (Au, Ag, Pb) на различных этапах очистки."
   ]
  },
  {
   "cell_type": "code",
   "execution_count": 19,
   "metadata": {},
   "outputs": [
    {
     "name": "stdout",
     "output_type": "stream",
     "text": [
      "Сырьё   \tag - 8.07\tpb - 3.31\tau - 7.57\t\n",
      "Флотация \tag - 10.87\tpb - 6.90\tau - 17.88\t\n",
      "Первичная\tag - 7.69\tpb - 8.92\tau - 29.21\t\n",
      "Финальная\tag - 4.78\tpb - 9.10\tau - 40.00\t\n"
     ]
    }
   ],
   "source": [
    "stages = {'rougher.input.feed_':'Сырьё   ', \n",
    "          'rougher.output.concentrate_':'Флотация ', \n",
    "          'primary_cleaner.output.concentrate_':'Первичная', \n",
    "          'final.output.concentrate_':'Финальная',}\n",
    "products = ['ag', 'pb', 'au']\n",
    "\n",
    "for stage in stages:\n",
    "    print(f'{stages[stage]}', end='\\t') \n",
    "    for product in products:\n",
    "        column = f'{stage}{product}' \n",
    "        print(f'{product} - {df_full[column].mean():.02f}', end='\\t')\n",
    "    print( )    \n"
   ]
  },
  {
   "cell_type": "markdown",
   "metadata": {},
   "source": [
    "**Мы видим, что содержание Ag выше после флотации, а при дальнейшей очистки падает. Содержание Pb и Au растёт на каждой стадии очистки**"
   ]
  },
  {
   "cell_type": "markdown",
   "metadata": {},
   "source": [
    "### Сравнение распределения размеров гранул сырья на обучающей и тестовой выборках."
   ]
  },
  {
   "cell_type": "code",
   "execution_count": 20,
   "metadata": {},
   "outputs": [],
   "source": [
    "data = [df_train, df_test]\n",
    "column = 'rougher.input.feed_size' "
   ]
  },
  {
   "cell_type": "code",
   "execution_count": 21,
   "metadata": {},
   "outputs": [
    {
     "name": "stdout",
     "output_type": "stream",
     "text": [
      "Средний размер гранул на обучающей выборке: 60.23985599255732\n",
      "Средний размер гранул на тестовой выборке: 55.95275402889513\n"
     ]
    },
    {
     "data": {
      "image/png": "[encoded data removed]",
      "text/plain": [
       "<Figure size 1080x360 with 1 Axes>"
      ]
     },
     "metadata": {
      "needs_background": "light"
     },
     "output_type": "display_data"
    }
   ],
   "source": [
    "print(f'Средний размер гранул на обучающей выборке: {df_train[column].mean()}')\n",
    "print(f'Средний размер гранул на тестовой выборке: {df_test[column].mean()}')\n",
    "for df in data:\n",
    "    df[column].hist(bins = 100, \n",
    "                    alpha=0.5,\n",
    "                    figsize = (15, 5))  "
   ]
  },
  {
   "cell_type": "markdown",
   "metadata": {},
   "source": [
    "Средние значения отличаются, но графики выглядят похоже, можем предположить, что распределения всё-таки одинаковы. \n",
    "Проверим это."
   ]
  },
  {
   "cell_type": "code",
   "execution_count": 22,
   "metadata": {},
   "outputs": [
    {
     "name": "stdout",
     "output_type": "stream",
     "text": [
      "pvalue: 1.6081245670847274e-33\n",
      "Отвергаем нулевую гипотезу\n"
     ]
    }
   ],
   "source": [
    "results = st.ttest_ind(df_train[column], df_test[column], axis=0)\n",
    "print(f'pvalue: {results.pvalue}')\n",
    "if results.pvalue < 0.05:\n",
    "    print('Отвергаем нулевую гипотезу')\n",
    "else:\n",
    "    print('Не получилось отвергнуть нулевую гипотезу')"
   ]
  },
  {
   "cell_type": "markdown",
   "metadata": {},
   "source": [
    "**Нам не удалось подтвердить, что распределения размеров гранул одинаковы, поэтому не будем использовать эту колонку для построения модели.**"
   ]
  },
  {
   "cell_type": "code",
   "execution_count": 23,
   "metadata": {},
   "outputs": [],
   "source": [
    "df_train = df_train.drop([column], axis = 1)\n",
    "df_test = df_test.drop([column], axis = 1)"
   ]
  },
  {
   "cell_type": "markdown",
   "metadata": {},
   "source": [
    "**Удаляем признак и выборок**"
   ]
  },
  {
   "cell_type": "markdown",
   "metadata": {},
   "source": [
    "### Исследование суммарной концентрации всех веществ на разных стадиях: в сырье, в черновом и финальном концентратах."
   ]
  },
  {
   "cell_type": "code",
   "execution_count": 24,
   "metadata": {},
   "outputs": [
    {
     "data": {
      "image/png": "[encoded data removed]",
      "text/plain": [
       "<Figure size 720x360 with 1 Axes>"
      ]
     },
     "metadata": {
      "needs_background": "light"
     },
     "output_type": "display_data"
    },
    {
     "data": {
      "image/png": "[encoded data removed]",
      "text/plain": [
       "<Figure size 720x360 with 1 Axes>"
      ]
     },
     "metadata": {
      "needs_background": "light"
     },
     "output_type": "display_data"
    },
    {
     "data": {
      "image/png": "[encoded data removed]",
      "text/plain": [
       "<Figure size 720x360 with 1 Axes>"
      ]
     },
     "metadata": {
      "needs_background": "light"
     },
     "output_type": "display_data"
    },
    {
     "data": {
      "image/png": "[encoded data removed]",
      "text/plain": [
       "<Figure size 720x360 with 1 Axes>"
      ]
     },
     "metadata": {
      "needs_background": "light"
     },
     "output_type": "display_data"
    }
   ],
   "source": [
    "stages = {'rougher.input.feed_':'Сырьё   ', \n",
    "          'rougher.output.concentrate_':'Флотация ', \n",
    "          'primary_cleaner.output.concentrate_':'Первичная', \n",
    "          'final.output.concentrate_':'Финальная',}\n",
    "products = ['ag', 'pb', 'au', 'sol']\n",
    "\n",
    "for stage in stages:\n",
    "    column = f'{stage}'\n",
    "    (df_full[column+'ag']+df_full[column+'pb']+df_full[column+'au']+df_full[column+'sol']).hist(bins = 50, \n",
    "              alpha=0.5,\n",
    "              figsize = (10, 5))\n",
    "    plt.show()"
   ]
  },
  {
   "cell_type": "markdown",
   "metadata": {},
   "source": [
    "Мы видим, что есть строки с нулевой суммарной концентрацией веществ, эффективность очистки для таких строк нельзя определить, поэтому исключим эти данные из модели. "
   ]
  },
  {
   "cell_type": "code",
   "execution_count": 25,
   "metadata": {},
   "outputs": [],
   "source": [
    "for stage in stages:\n",
    "    no_null = df_full.loc[df_train.index].loc[(df_full[stage + 'ag'] +\n",
    "                                 df_full[stage + 'pb'] +\n",
    "                                 df_full[stage + 'au'] +\n",
    "                                 df_full[stage + 'sol']) > 0]\n",
    "    df_train = df_train.loc[no_null.index]\n"
   ]
  },
  {
   "cell_type": "code",
   "execution_count": 26,
   "metadata": {},
   "outputs": [],
   "source": [
    "for stage in stages:\n",
    "    no_null = df_test.loc[df_test.index].loc[(df_full[stage + 'ag'] +\n",
    "                                 df_full[stage + 'pb'] +\n",
    "                                 df_full[stage + 'au'] +\n",
    "                                 df_full[stage + 'sol']) > 0]\n",
    "    df_test = df_test.loc[no_null.index]"
   ]
  },
  {
   "cell_type": "code",
   "execution_count": 27,
   "metadata": {
    "scrolled": false
   },
   "outputs": [
    {
     "name": "stdout",
     "output_type": "stream",
     "text": [
      "<class 'pandas.core.frame.DataFrame'>\n",
      "Index: 5040 entries, 2016-09-01 00:59:59 to 2017-12-31 23:59:59\n",
      "Data columns (total 53 columns):\n",
      "primary_cleaner.input.sulfate                 5040 non-null float64\n",
      "primary_cleaner.input.depressant              5040 non-null float64\n",
      "primary_cleaner.input.feed_size               5040 non-null float64\n",
      "primary_cleaner.input.xanthate                5040 non-null float64\n",
      "primary_cleaner.state.floatbank8_a_air        5040 non-null float64\n",
      "primary_cleaner.state.floatbank8_a_level      5040 non-null float64\n",
      "primary_cleaner.state.floatbank8_b_air        5040 non-null float64\n",
      "primary_cleaner.state.floatbank8_b_level      5040 non-null float64\n",
      "primary_cleaner.state.floatbank8_c_air        5040 non-null float64\n",
      "primary_cleaner.state.floatbank8_c_level      5040 non-null float64\n",
      "primary_cleaner.state.floatbank8_d_air        5040 non-null float64\n",
      "primary_cleaner.state.floatbank8_d_level      5040 non-null float64\n",
      "rougher.input.feed_ag                         5040 non-null float64\n",
      "rougher.input.feed_pb                         5040 non-null float64\n",
      "rougher.input.feed_rate                       5040 non-null float64\n",
      "rougher.input.feed_sol                        5040 non-null float64\n",
      "rougher.input.feed_au                         5040 non-null float64\n",
      "rougher.input.floatbank10_sulfate             5040 non-null float64\n",
      "rougher.input.floatbank10_xanthate            5040 non-null float64\n",
      "rougher.input.floatbank11_sulfate             5040 non-null float64\n",
      "rougher.input.floatbank11_xanthate            5040 non-null float64\n",
      "rougher.state.floatbank10_a_air               5040 non-null float64\n",
      "rougher.state.floatbank10_a_level             5040 non-null float64\n",
      "rougher.state.floatbank10_b_air               5040 non-null float64\n",
      "rougher.state.floatbank10_b_level             5040 non-null float64\n",
      "rougher.state.floatbank10_c_air               5040 non-null float64\n",
      "rougher.state.floatbank10_c_level             5040 non-null float64\n",
      "rougher.state.floatbank10_d_air               5040 non-null float64\n",
      "rougher.state.floatbank10_d_level             5040 non-null float64\n",
      "rougher.state.floatbank10_e_air               5040 non-null float64\n",
      "rougher.state.floatbank10_e_level             5040 non-null float64\n",
      "rougher.state.floatbank10_f_air               5040 non-null float64\n",
      "rougher.state.floatbank10_f_level             5040 non-null float64\n",
      "secondary_cleaner.state.floatbank2_a_air      5040 non-null float64\n",
      "secondary_cleaner.state.floatbank2_a_level    5040 non-null float64\n",
      "secondary_cleaner.state.floatbank2_b_air      5040 non-null float64\n",
      "secondary_cleaner.state.floatbank2_b_level    5040 non-null float64\n",
      "secondary_cleaner.state.floatbank3_a_air      5040 non-null float64\n",
      "secondary_cleaner.state.floatbank3_a_level    5040 non-null float64\n",
      "secondary_cleaner.state.floatbank3_b_air      5040 non-null float64\n",
      "secondary_cleaner.state.floatbank3_b_level    5040 non-null float64\n",
      "secondary_cleaner.state.floatbank4_a_air      5040 non-null float64\n",
      "secondary_cleaner.state.floatbank4_a_level    5040 non-null float64\n",
      "secondary_cleaner.state.floatbank4_b_air      5040 non-null float64\n",
      "secondary_cleaner.state.floatbank4_b_level    5040 non-null float64\n",
      "secondary_cleaner.state.floatbank5_a_air      5040 non-null float64\n",
      "secondary_cleaner.state.floatbank5_a_level    5040 non-null float64\n",
      "secondary_cleaner.state.floatbank5_b_air      5040 non-null float64\n",
      "secondary_cleaner.state.floatbank5_b_level    5040 non-null float64\n",
      "secondary_cleaner.state.floatbank6_a_air      5040 non-null float64\n",
      "secondary_cleaner.state.floatbank6_a_level    5040 non-null float64\n",
      "rougher.output.recovery                       5040 non-null float64\n",
      "final.output.recovery                         5040 non-null float64\n",
      "dtypes: float64(53)\n",
      "memory usage: 2.1+ MB\n",
      "<class 'pandas.core.frame.DataFrame'>\n",
      "Index: 13136 entries, 2016-01-15 00:00:00 to 2018-08-18 10:59:59\n",
      "Data columns (total 53 columns):\n",
      "final.output.recovery                         13136 non-null float64\n",
      "primary_cleaner.input.sulfate                 13136 non-null float64\n",
      "primary_cleaner.input.depressant              13136 non-null float64\n",
      "primary_cleaner.input.feed_size               13136 non-null float64\n",
      "primary_cleaner.input.xanthate                13136 non-null float64\n",
      "primary_cleaner.state.floatbank8_a_air        13136 non-null float64\n",
      "primary_cleaner.state.floatbank8_a_level      13136 non-null float64\n",
      "primary_cleaner.state.floatbank8_b_air        13136 non-null float64\n",
      "primary_cleaner.state.floatbank8_b_level      13136 non-null float64\n",
      "primary_cleaner.state.floatbank8_c_air        13136 non-null float64\n",
      "primary_cleaner.state.floatbank8_c_level      13136 non-null float64\n",
      "primary_cleaner.state.floatbank8_d_air        13136 non-null float64\n",
      "primary_cleaner.state.floatbank8_d_level      13136 non-null float64\n",
      "rougher.input.feed_ag                         13136 non-null float64\n",
      "rougher.input.feed_pb                         13136 non-null float64\n",
      "rougher.input.feed_rate                       13136 non-null float64\n",
      "rougher.input.feed_sol                        13136 non-null float64\n",
      "rougher.input.feed_au                         13136 non-null float64\n",
      "rougher.input.floatbank10_sulfate             13136 non-null float64\n",
      "rougher.input.floatbank10_xanthate            13136 non-null float64\n",
      "rougher.input.floatbank11_sulfate             13136 non-null float64\n",
      "rougher.input.floatbank11_xanthate            13136 non-null float64\n",
      "rougher.output.recovery                       13136 non-null float64\n",
      "rougher.state.floatbank10_a_air               13136 non-null float64\n",
      "rougher.state.floatbank10_a_level             13136 non-null float64\n",
      "rougher.state.floatbank10_b_air               13136 non-null float64\n",
      "rougher.state.floatbank10_b_level             13136 non-null float64\n",
      "rougher.state.floatbank10_c_air               13136 non-null float64\n",
      "rougher.state.floatbank10_c_level             13136 non-null float64\n",
      "rougher.state.floatbank10_d_air               13136 non-null float64\n",
      "rougher.state.floatbank10_d_level             13136 non-null float64\n",
      "rougher.state.floatbank10_e_air               13136 non-null float64\n",
      "rougher.state.floatbank10_e_level             13136 non-null float64\n",
      "rougher.state.floatbank10_f_air               13136 non-null float64\n",
      "rougher.state.floatbank10_f_level             13136 non-null float64\n",
      "secondary_cleaner.state.floatbank2_a_air      13136 non-null float64\n",
      "secondary_cleaner.state.floatbank2_a_level    13136 non-null float64\n",
      "secondary_cleaner.state.floatbank2_b_air      13136 non-null float64\n",
      "secondary_cleaner.state.floatbank2_b_level    13136 non-null float64\n",
      "secondary_cleaner.state.floatbank3_a_air      13136 non-null float64\n",
      "secondary_cleaner.state.floatbank3_a_level    13136 non-null float64\n",
      "secondary_cleaner.state.floatbank3_b_air      13136 non-null float64\n",
      "secondary_cleaner.state.floatbank3_b_level    13136 non-null float64\n",
      "secondary_cleaner.state.floatbank4_a_air      13136 non-null float64\n",
      "secondary_cleaner.state.floatbank4_a_level    13136 non-null float64\n",
      "secondary_cleaner.state.floatbank4_b_air      13136 non-null float64\n",
      "secondary_cleaner.state.floatbank4_b_level    13136 non-null float64\n",
      "secondary_cleaner.state.floatbank5_a_air      13136 non-null float64\n",
      "secondary_cleaner.state.floatbank5_a_level    13136 non-null float64\n",
      "secondary_cleaner.state.floatbank5_b_air      13136 non-null float64\n",
      "secondary_cleaner.state.floatbank5_b_level    13136 non-null float64\n",
      "secondary_cleaner.state.floatbank6_a_air      13136 non-null float64\n",
      "secondary_cleaner.state.floatbank6_a_level    13136 non-null float64\n",
      "dtypes: float64(53)\n",
      "memory usage: 5.4+ MB\n"
     ]
    }
   ],
   "source": [
    "df_test.info()\n",
    "df_train.info()"
   ]
  },
  {
   "cell_type": "markdown",
   "metadata": {},
   "source": [
    "**Мы удалили аномальные значения, которые могут повлиять на качество модели.**"
   ]
  },
  {
   "cell_type": "markdown",
   "metadata": {},
   "source": [
    "## Модель"
   ]
  },
  {
   "cell_type": "markdown",
   "metadata": {},
   "source": [
    "### Определение метрики"
   ]
  },
  {
   "cell_type": "code",
   "execution_count": 28,
   "metadata": {},
   "outputs": [],
   "source": [
    "def smape(target, prediction):\n",
    "    return (abs(target - prediction) / ((abs(target) + abs(prediction)) / 2)).sum() / len(target) * 100\n",
    "\n",
    "def final_smape(smape_rougher, smape_final):\n",
    "    return .25 * smape_rougher + .75 * smape_final"
   ]
  },
  {
   "cell_type": "markdown",
   "metadata": {},
   "source": [
    "Определили функции для расчета метрики sMape"
   ]
  },
  {
   "cell_type": "markdown",
   "metadata": {},
   "source": [
    "### Выделение целевых признаков, масштабирование"
   ]
  },
  {
   "cell_type": "code",
   "execution_count": 29,
   "metadata": {},
   "outputs": [],
   "source": [
    "target_final_train = df_train['final.output.recovery'] \n",
    "target_rougher_train = df_train['rougher.output.recovery'] \n",
    "features_train = df_train.drop(['final.output.recovery', 'rougher.output.recovery'], axis = 1 )\n",
    "df_test = df_test.dropna()                           \n",
    "target_final_test = df_test['final.output.recovery'] \n",
    "target_rougher_test = df_test['rougher.output.recovery'] \n",
    "features_test = df_test.drop(['final.output.recovery', 'rougher.output.recovery'], axis = 1 )"
   ]
  },
  {
   "cell_type": "markdown",
   "metadata": {},
   "source": [
    "Выделили целевые признаки."
   ]
  },
  {
   "cell_type": "code",
   "execution_count": 30,
   "metadata": {},
   "outputs": [],
   "source": [
    "scaler = StandardScaler()\n",
    "features_train  = pd.DataFrame(scaler.fit_transform(features_train)) \n",
    "features_test = pd.DataFrame(scaler.transform(features_test)) "
   ]
  },
  {
   "cell_type": "markdown",
   "metadata": {},
   "source": [
    "Масштабироваль признаки"
   ]
  },
  {
   "cell_type": "markdown",
   "metadata": {},
   "source": [
    "**Данные подготовлены для моделей.**"
   ]
  },
  {
   "cell_type": "markdown",
   "metadata": {},
   "source": [
    "### Выбор моделей, подбор параметров"
   ]
  },
  {
   "cell_type": "markdown",
   "metadata": {},
   "source": [
    "Опишем функцию, которая будет подбирать параметры для разных алгоритмов обучения и выберет лучшую модель. "
   ]
  },
  {
   "cell_type": "code",
   "execution_count": 31,
   "metadata": {},
   "outputs": [],
   "source": [
    "def get_best_model(features_train, target_train):\n",
    "    models =  [{'name': 'LinearRegression',\n",
    "                'algorithm': LinearRegression,\n",
    "                'parametrs': {},\n",
    "                'best_params': {},},  \n",
    "                {'name': 'Lasso',\n",
    "                'algorithm': Lasso,\n",
    "                'parametrs': {'alpha': [i/10 for i in range(1,10)]},\n",
    "                'best_params': {},},\n",
    "                {'name': 'ElasticNet',\n",
    "                'algorithm': ElasticNet,\n",
    "                'parametrs': {'alpha': [i/10 for i in range(1,10)]},\n",
    "                'best_params': {},},\n",
    "                {'name': 'DecisionTreeRegressor',\n",
    "                'algorithm': DecisionTreeRegressor, \n",
    "                 'parametrs': {'max_depth': range (2, 10)}, \n",
    "                 'best_params': {},},]    \n",
    "    best_model_id = 0\n",
    "    for i, model in enumerate(models):\n",
    "        grid = GridSearchCV(model['algorithm'](), model['parametrs'], scoring=make_scorer(smape), cv=5)\n",
    "        grid.fit(features_train, target_train) \n",
    "        model['best_params'] = grid.best_params_\n",
    "        model['best_score'] = grid.best_score_\n",
    "        if model['best_score'] < models[best_model_id]['best_score']:\n",
    "            best_model_id = i\n",
    "        print(f\"Алгоритм - {model['name']}\\t параметры - {model['best_params']}\\t - smape - {model['best_score']:.04f}\")\n",
    "    return models[best_model_id]"
   ]
  },
  {
   "cell_type": "markdown",
   "metadata": {},
   "source": [
    "Подберем лучшую модель для этапа флотации."
   ]
  },
  {
   "cell_type": "code",
   "execution_count": 32,
   "metadata": {},
   "outputs": [
    {
     "name": "stdout",
     "output_type": "stream",
     "text": [
      "Алгоритм - LinearRegression\t параметры - {}\t - smape - 6.9830\n",
      "Алгоритм - Lasso\t параметры - {'alpha': 0.9}\t - smape - 6.8139\n",
      "Алгоритм - ElasticNet\t параметры - {'alpha': 0.9}\t - smape - 6.3479\n",
      "Алгоритм - DecisionTreeRegressor\t параметры - {'max_depth': 6}\t - smape - 11.7501\n",
      "CPU times: user 59.6 s, sys: 2min 1s, total: 3min 1s\n",
      "Wall time: 3min 2s\n"
     ]
    }
   ],
   "source": [
    "%%time\n",
    "model_rougher = get_best_model(features_train, target_rougher_train)\n"
   ]
  },
  {
   "cell_type": "code",
   "execution_count": 33,
   "metadata": {},
   "outputs": [
    {
     "name": "stdout",
     "output_type": "stream",
     "text": [
      "Лучшая модель для флотации: - ElasticNet\tпараметры - {'alpha': 0.9}\t- smape - 6.3479\n"
     ]
    }
   ],
   "source": [
    "print(f\"Лучшая модель для флотации: - {model_rougher['name']}\\t\"\n",
    "      f\"параметры - {model_rougher['best_params']}\\t\"\n",
    "      f\"- smape - {model_rougher['best_score']:.04f}\")"
   ]
  },
  {
   "cell_type": "markdown",
   "metadata": {},
   "source": [
    "Подберем лучшую модель для финальной очистки."
   ]
  },
  {
   "cell_type": "code",
   "execution_count": 34,
   "metadata": {},
   "outputs": [
    {
     "name": "stdout",
     "output_type": "stream",
     "text": [
      "Алгоритм - LinearRegression\t параметры - {}\t - smape - 10.0896\n",
      "Алгоритм - Lasso\t параметры - {'alpha': 0.1}\t - smape - 9.0986\n",
      "Алгоритм - ElasticNet\t параметры - {'alpha': 0.1}\t - smape - 9.0662\n",
      "Алгоритм - DecisionTreeRegressor\t параметры - {'max_depth': 9}\t - smape - 11.8114\n",
      "CPU times: user 30.3 s, sys: 31.9 s, total: 1min 2s\n",
      "Wall time: 1min 3s\n"
     ]
    }
   ],
   "source": [
    "%%time\n",
    "model_final = get_best_model(features_train, target_final_train)\n"
   ]
  },
  {
   "cell_type": "code",
   "execution_count": 35,
   "metadata": {},
   "outputs": [
    {
     "name": "stdout",
     "output_type": "stream",
     "text": [
      "Лучшая модель для финальной очистки: - ElasticNet\tпараметры - {'alpha': 0.1}\t- smape - 9.0662\n"
     ]
    }
   ],
   "source": [
    "print(f\"Лучшая модель для финальной очистки: - {model_final['name']}\\t\"\n",
    "      f\"параметры - {model_final['best_params']}\\t\"\n",
    "      f\"- smape - {model_final['best_score']:.04f}\")"
   ]
  },
  {
   "cell_type": "markdown",
   "metadata": {},
   "source": [
    "Посчитаем итоговую sMape."
   ]
  },
  {
   "cell_type": "code",
   "execution_count": 36,
   "metadata": {},
   "outputs": [
    {
     "name": "stdout",
     "output_type": "stream",
     "text": [
      "Итоговая sMape = 8.3867\n"
     ]
    }
   ],
   "source": [
    "smape_all = final_smape(model_rougher['best_score'], model_final['best_score'])\n",
    "print(f'Итоговая sMape = {smape_all:.04f}')"
   ]
  },
  {
   "cell_type": "markdown",
   "metadata": {},
   "source": [
    "**Мы подобрали лучшие модели для каждого целевого признака:**\n",
    "- для `rougher.output.recovery`: алгоритм ElasticNet(alpha=0.9), получили sMape = 6.3479\n",
    "- для `final.output.recovery`: алгоритм ElasticNet(alpha=0.1), получили sMape = 9.0662\n",
    "\n",
    "- Итоговая sMape = 8.3867"
   ]
  },
  {
   "cell_type": "markdown",
   "metadata": {},
   "source": [
    "### Проверка модели на тестовых данных"
   ]
  },
  {
   "cell_type": "code",
   "execution_count": 37,
   "metadata": {},
   "outputs": [
    {
     "name": "stdout",
     "output_type": "stream",
     "text": [
      "  3.9049\n"
     ]
    }
   ],
   "source": [
    "model = model_rougher['algorithm'](**model_rougher['best_params'])\n",
    "model.fit(features_train, target_rougher_train)\n",
    "prediction = model.predict(features_test) \n",
    "smape_rougher = smape(target_rougher_test.ravel(), prediction)\n",
    "print(f'  {smape_rougher:.04f}')"
   ]
  },
  {
   "cell_type": "code",
   "execution_count": 38,
   "metadata": {},
   "outputs": [
    {
     "name": "stdout",
     "output_type": "stream",
     "text": [
      "  7.3947\n"
     ]
    }
   ],
   "source": [
    "model = model_final['algorithm'](**model_final['best_params'])\n",
    "model.fit(features_train, target_final_train)\n",
    "prediction = model.predict(features_test) \n",
    "smape_final = smape(target_final_test.ravel(), prediction)\n",
    "print(f'  {smape_final:.04f}') "
   ]
  },
  {
   "cell_type": "code",
   "execution_count": 39,
   "metadata": {},
   "outputs": [
    {
     "name": "stdout",
     "output_type": "stream",
     "text": [
      "Итоговая sMape = 6.5223\n"
     ]
    }
   ],
   "source": [
    "smape_all_test = final_smape(smape_rougher, smape_final)\n",
    "print(f'Итоговая sMape = {smape_all_test:.04f}')"
   ]
  },
  {
   "cell_type": "markdown",
   "metadata": {},
   "source": [
    "**На тестовой выборке получены следующие результаты:**\n",
    "- для `rougher.output.recovery`  получили sMape = 3.9049\n",
    "- для `final.output.recovery` получили sMape = 7.3947\n",
    "\n",
    "- Итоговая sMape = 6.5223\n"
   ]
  },
  {
   "cell_type": "markdown",
   "metadata": {},
   "source": [
    "## Вывод"
   ]
  },
  {
   "cell_type": "markdown",
   "metadata": {},
   "source": [
    "**Для прогнозирования мы подготовили данные и обучили различные модели. Были использованы алгоритмы LinearRegression, Lasso, ElasticNet и DecisionTreeRegressor. Использована функция GridSearchCV, которая методом кросс-валидации подобрала наилучшие параметры для каждого алгоритма.**"
   ]
  },
  {
   "cell_type": "markdown",
   "metadata": {},
   "source": [
    "**Лучшие метрики показали модели ElasticNet(alpha=0.9) для этапа флотации, и ElasticNet(alpha=0.1) для финальной очистки.**"
   ]
  },
  {
   "cell_type": "markdown",
   "metadata": {},
   "source": [
    "**Достигнуты метрики sMape 6.3479 для этапа флотации, и 9.0662 для финальной очистки.** "
   ]
  },
  {
   "cell_type": "markdown",
   "metadata": {},
   "source": [
    "**Итоговая sMape = 8.3867**"
   ]
  },
  {
   "cell_type": "markdown",
   "metadata": {},
   "source": [
    " "
   ]
  },
  {
   "cell_type": "markdown",
   "metadata": {},
   "source": [
    "**На тестовой выборке получены метрики sMape 3.9049 для этапа флотации, и 7.3947 для финальной очистки**"
   ]
  },
  {
   "cell_type": "markdown",
   "metadata": {},
   "source": [
    "**Итоговая sMape на тестовой выборке = 6.5223**"
   ]
  },
  {
   "cell_type": "markdown",
   "metadata": {},
   "source": [
    " "
   ]
  }
 ],
 "metadata": {
  "kernelspec": {
   "display_name": "Python 3",
   "language": "python",
   "name": "python3"
  },
  "language_info": {
   "codemirror_mode": {
    "name": "ipython",
    "version": 3
   },
   "file_extension": ".py",
   "mimetype": "text/x-python",
   "name": "python",
   "nbconvert_exporter": "python",
   "pygments_lexer": "ipython3",
   "version": "3.8.6"
  },
  "toc": {
   "base_numbering": 1,
   "nav_menu": {},
   "number_sections": true,
   "sideBar": true,
   "skip_h1_title": true,
   "title_cell": "Содержание",
   "title_sidebar": "Contents",
   "toc_cell": false,
   "toc_position": {},
   "toc_section_display": true,
   "toc_window_display": false
  }
 },
 "nbformat": 4,
 "nbformat_minor": 2
}
